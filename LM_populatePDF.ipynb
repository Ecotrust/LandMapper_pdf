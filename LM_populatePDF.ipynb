{
 "cells": [
  {
   "cell_type": "code",
   "execution_count": 1,
   "metadata": {
    "collapsed": true
   },
   "outputs": [],
   "source": [
    "import os\n",
    "from pdfjinja import PdfJinja"
   ]
  },
  {
   "cell_type": "code",
   "execution_count": 7,
   "metadata": {
    "collapsed": true
   },
   "outputs": [],
   "source": [
    "dirname = os.getcwd()\n",
    "template_pdf_file = os.path.join(dirname, 'LM_form.pdf')\n",
    "template_pdf = PdfJinja(template_pdf_file)"
   ]
  },
  {
   "cell_type": "code",
   "execution_count": 8,
   "metadata": {
    "collapsed": true
   },
   "outputs": [],
   "source": [
    "rendered_pdf = template_pdf({\n",
    "    'date': '07/17/20',\n",
    "    'propName': 'Summerland Tree Farm',\n",
    "    'acres' : '400',\n",
    "    'elevation' : '130 ft',\n",
    "    'legalDesc' : 'Section 4, Township 4S',\n",
    "    'structFire' : 'Answer',\n",
    "    'forestFire' : 'Answer',\n",
    "    'wsName' : 'Watershed Name',\n",
    "    'wsNum' : '12345678910',\n",
    "    'zone' : 'Zone Type', \n",
    "    'introAerial': os.path.join(dirname, 'introAerialMap.png'),\n",
    "    'aerial' :  os.path.join(dirname, 'aerialMap.png'),\n",
    "    'county' : 'Jackson County',\n",
    "    'sbAerial' :  os.path.join(dirname, 'scaleBar.png'),\n",
    "    })\n",
    "\n",
    "output_file = os.path.join(dirname, 'LMpdf_output.pdf')\n",
    "rendered_pdf.write(open(output_file, 'wb'))"
   ]
  },
  {
   "cell_type": "code",
   "execution_count": 6,
   "metadata": {},
   "outputs": [
    {
     "data": {
      "text/plain": [
       "'C:\\\\Users\\\\sloreno\\\\ForestType_Prediction_2017\\\\maps\\\\LandMapperPDF\\\\landMapperPDF_form.pdf'"
      ]
     },
     "execution_count": 6,
     "metadata": {},
     "output_type": "execute_result"
    }
   ],
   "source": []
  },
  {
   "cell_type": "code",
   "execution_count": 7,
   "metadata": {
    "collapsed": true
   },
   "outputs": [],
   "source": []
  },
  {
   "cell_type": "code",
   "execution_count": 8,
   "metadata": {},
   "outputs": [
    {
     "data": {
      "text/plain": [
       "<pdfjinja.PdfJinja at 0x24773cc5550>"
      ]
     },
     "execution_count": 8,
     "metadata": {},
     "output_type": "execute_result"
    }
   ],
   "source": []
  },
  {
   "cell_type": "code",
   "execution_count": null,
   "metadata": {
    "collapsed": true
   },
   "outputs": [],
   "source": []
  }
 ],
 "metadata": {
  "kernelspec": {
   "display_name": "Environment (conda_py38)",
   "language": "python",
   "name": "conda_py38"
  },
  "language_info": {
   "codemirror_mode": {
    "name": "ipython",
    "version": 3
   },
   "file_extension": ".py",
   "mimetype": "text/x-python",
   "name": "python",
   "nbconvert_exporter": "python",
   "pygments_lexer": "ipython3",
   "version": "3.8.3"
  }
 },
 "nbformat": 4,
 "nbformat_minor": 2
}
